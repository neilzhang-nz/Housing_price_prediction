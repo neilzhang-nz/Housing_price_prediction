{
 "cells": [
  {
   "cell_type": "code",
   "execution_count": 1,
   "metadata": {
    "cell_id": "00002-38863ca3-1df9-4aba-9c86-ffc0fc89ffaa",
    "output_cleared": false,
    "tags": []
   },
   "outputs": [],
   "source": [
    "import numpy as np\n",
    "import pandas as pd\n",
    "import sklearn\n",
    "import matplotlib.pyplot as plt\n",
    "import math\n",
    "\n",
    "from collections import OrderedDict"
   ]
  },
  {
   "cell_type": "code",
   "execution_count": 2,
   "metadata": {
    "cell_id": "00001-9b69b082-0e18-4df0-9a33-b8b09bfeedd9",
    "output_cleared": false,
    "tags": []
   },
   "outputs": [],
   "source": [
    "from sklearn.linear_model import LinearRegression, Ridge, Lasso \n",
    "from sklearn.metrics import mean_squared_error\n",
    "from sklearn.metrics import r2_score"
   ]
  },
  {
   "cell_type": "code",
   "execution_count": 3,
   "metadata": {
    "cell_id": "00003-3a111cff-0a2a-4754-ae97-38f220506aac",
    "output_cleared": false,
    "tags": []
   },
   "outputs": [],
   "source": [
    "raw_train_data = pd.read_csv(\"train.csv\")\n",
    "raw_test_data = pd.read_csv(\"test.csv\")"
   ]
  },
  {
   "cell_type": "code",
   "execution_count": 4,
   "metadata": {
    "cell_id": "00004-9f540b57-79fc-4f34-837f-39176bda9caf",
    "output_cleared": false,
    "tags": []
   },
   "outputs": [
    {
     "data": {
      "text/html": [
       "<div>\n",
       "<style scoped>\n",
       "    .dataframe tbody tr th:only-of-type {\n",
       "        vertical-align: middle;\n",
       "    }\n",
       "\n",
       "    .dataframe tbody tr th {\n",
       "        vertical-align: top;\n",
       "    }\n",
       "\n",
       "    .dataframe thead th {\n",
       "        text-align: right;\n",
       "    }\n",
       "</style>\n",
       "<table border=\"1\" class=\"dataframe\">\n",
       "  <thead>\n",
       "    <tr style=\"text-align: right;\">\n",
       "      <th></th>\n",
       "      <th>Id</th>\n",
       "      <th>MSSubClass</th>\n",
       "      <th>MSZoning</th>\n",
       "      <th>LotFrontage</th>\n",
       "      <th>LotArea</th>\n",
       "      <th>Street</th>\n",
       "      <th>Alley</th>\n",
       "      <th>LotShape</th>\n",
       "      <th>LandContour</th>\n",
       "      <th>Utilities</th>\n",
       "      <th>...</th>\n",
       "      <th>PoolArea</th>\n",
       "      <th>PoolQC</th>\n",
       "      <th>Fence</th>\n",
       "      <th>MiscFeature</th>\n",
       "      <th>MiscVal</th>\n",
       "      <th>MoSold</th>\n",
       "      <th>YrSold</th>\n",
       "      <th>SaleType</th>\n",
       "      <th>SaleCondition</th>\n",
       "      <th>SalePrice</th>\n",
       "    </tr>\n",
       "  </thead>\n",
       "  <tbody>\n",
       "    <tr>\n",
       "      <th>0</th>\n",
       "      <td>1</td>\n",
       "      <td>60</td>\n",
       "      <td>RL</td>\n",
       "      <td>65.0</td>\n",
       "      <td>8450</td>\n",
       "      <td>Pave</td>\n",
       "      <td>NaN</td>\n",
       "      <td>Reg</td>\n",
       "      <td>Lvl</td>\n",
       "      <td>AllPub</td>\n",
       "      <td>...</td>\n",
       "      <td>0</td>\n",
       "      <td>NaN</td>\n",
       "      <td>NaN</td>\n",
       "      <td>NaN</td>\n",
       "      <td>0</td>\n",
       "      <td>2</td>\n",
       "      <td>2008</td>\n",
       "      <td>WD</td>\n",
       "      <td>Normal</td>\n",
       "      <td>208500</td>\n",
       "    </tr>\n",
       "    <tr>\n",
       "      <th>1</th>\n",
       "      <td>2</td>\n",
       "      <td>20</td>\n",
       "      <td>RL</td>\n",
       "      <td>80.0</td>\n",
       "      <td>9600</td>\n",
       "      <td>Pave</td>\n",
       "      <td>NaN</td>\n",
       "      <td>Reg</td>\n",
       "      <td>Lvl</td>\n",
       "      <td>AllPub</td>\n",
       "      <td>...</td>\n",
       "      <td>0</td>\n",
       "      <td>NaN</td>\n",
       "      <td>NaN</td>\n",
       "      <td>NaN</td>\n",
       "      <td>0</td>\n",
       "      <td>5</td>\n",
       "      <td>2007</td>\n",
       "      <td>WD</td>\n",
       "      <td>Normal</td>\n",
       "      <td>181500</td>\n",
       "    </tr>\n",
       "    <tr>\n",
       "      <th>2</th>\n",
       "      <td>3</td>\n",
       "      <td>60</td>\n",
       "      <td>RL</td>\n",
       "      <td>68.0</td>\n",
       "      <td>11250</td>\n",
       "      <td>Pave</td>\n",
       "      <td>NaN</td>\n",
       "      <td>IR1</td>\n",
       "      <td>Lvl</td>\n",
       "      <td>AllPub</td>\n",
       "      <td>...</td>\n",
       "      <td>0</td>\n",
       "      <td>NaN</td>\n",
       "      <td>NaN</td>\n",
       "      <td>NaN</td>\n",
       "      <td>0</td>\n",
       "      <td>9</td>\n",
       "      <td>2008</td>\n",
       "      <td>WD</td>\n",
       "      <td>Normal</td>\n",
       "      <td>223500</td>\n",
       "    </tr>\n",
       "    <tr>\n",
       "      <th>3</th>\n",
       "      <td>4</td>\n",
       "      <td>70</td>\n",
       "      <td>RL</td>\n",
       "      <td>60.0</td>\n",
       "      <td>9550</td>\n",
       "      <td>Pave</td>\n",
       "      <td>NaN</td>\n",
       "      <td>IR1</td>\n",
       "      <td>Lvl</td>\n",
       "      <td>AllPub</td>\n",
       "      <td>...</td>\n",
       "      <td>0</td>\n",
       "      <td>NaN</td>\n",
       "      <td>NaN</td>\n",
       "      <td>NaN</td>\n",
       "      <td>0</td>\n",
       "      <td>2</td>\n",
       "      <td>2006</td>\n",
       "      <td>WD</td>\n",
       "      <td>Abnorml</td>\n",
       "      <td>140000</td>\n",
       "    </tr>\n",
       "    <tr>\n",
       "      <th>4</th>\n",
       "      <td>5</td>\n",
       "      <td>60</td>\n",
       "      <td>RL</td>\n",
       "      <td>84.0</td>\n",
       "      <td>14260</td>\n",
       "      <td>Pave</td>\n",
       "      <td>NaN</td>\n",
       "      <td>IR1</td>\n",
       "      <td>Lvl</td>\n",
       "      <td>AllPub</td>\n",
       "      <td>...</td>\n",
       "      <td>0</td>\n",
       "      <td>NaN</td>\n",
       "      <td>NaN</td>\n",
       "      <td>NaN</td>\n",
       "      <td>0</td>\n",
       "      <td>12</td>\n",
       "      <td>2008</td>\n",
       "      <td>WD</td>\n",
       "      <td>Normal</td>\n",
       "      <td>250000</td>\n",
       "    </tr>\n",
       "  </tbody>\n",
       "</table>\n",
       "<p>5 rows × 81 columns</p>\n",
       "</div>"
      ],
      "text/plain": [
       "   Id  MSSubClass MSZoning  LotFrontage  LotArea Street Alley LotShape  \\\n",
       "0   1          60       RL         65.0     8450   Pave   NaN      Reg   \n",
       "1   2          20       RL         80.0     9600   Pave   NaN      Reg   \n",
       "2   3          60       RL         68.0    11250   Pave   NaN      IR1   \n",
       "3   4          70       RL         60.0     9550   Pave   NaN      IR1   \n",
       "4   5          60       RL         84.0    14260   Pave   NaN      IR1   \n",
       "\n",
       "  LandContour Utilities  ... PoolArea PoolQC Fence MiscFeature MiscVal MoSold  \\\n",
       "0         Lvl    AllPub  ...        0    NaN   NaN         NaN       0      2   \n",
       "1         Lvl    AllPub  ...        0    NaN   NaN         NaN       0      5   \n",
       "2         Lvl    AllPub  ...        0    NaN   NaN         NaN       0      9   \n",
       "3         Lvl    AllPub  ...        0    NaN   NaN         NaN       0      2   \n",
       "4         Lvl    AllPub  ...        0    NaN   NaN         NaN       0     12   \n",
       "\n",
       "  YrSold  SaleType  SaleCondition  SalePrice  \n",
       "0   2008        WD         Normal     208500  \n",
       "1   2007        WD         Normal     181500  \n",
       "2   2008        WD         Normal     223500  \n",
       "3   2006        WD        Abnorml     140000  \n",
       "4   2008        WD         Normal     250000  \n",
       "\n",
       "[5 rows x 81 columns]"
      ]
     },
     "execution_count": 4,
     "metadata": {},
     "output_type": "execute_result"
    }
   ],
   "source": [
    "raw_train_data.head()"
   ]
  },
  {
   "cell_type": "markdown",
   "metadata": {
    "cell_id": "00005-acc31a88-e21f-4255-ad8b-a89e0e0f2f4b",
    "output_cleared": false,
    "tags": []
   },
   "source": [
    "## Functions"
   ]
  },
  {
   "cell_type": "code",
   "execution_count": 5,
   "metadata": {
    "cell_id": "00005-5f6a6c74-258e-46d0-99d0-bd8042e83a17",
    "output_cleared": false,
    "tags": []
   },
   "outputs": [],
   "source": [
    "def plot_unsorted(x, y):\n",
    "    order = np.argsort(x)\n",
    "    xs = np.array(x)[order]\n",
    "    ys = np.array(y)[order]\n",
    "    plt.plot(xs, ys, color = 'r')"
   ]
  },
  {
   "cell_type": "code",
   "execution_count": 6,
   "metadata": {
    "cell_id": "00007-287471f5-3d21-4f70-9ba4-c8697c216576",
    "output_cleared": false,
    "tags": []
   },
   "outputs": [],
   "source": [
    "def scatter_unsorted(x, y):\n",
    "    order = np.argsort(x)\n",
    "    xs = np.array(x)[order]\n",
    "    ys = np.array(y)[order]\n",
    "    plt.scatter(xs, ys, color = 'b')"
   ]
  },
  {
   "cell_type": "code",
   "execution_count": 7,
   "metadata": {
    "cell_id": "00007-c07a0284-1c09-448d-a60e-30a353e89e6e",
    "output_cleared": false,
    "tags": []
   },
   "outputs": [],
   "source": [
    "def scatter_unsorted_3d(x1,x2,y):\n",
    "    order = np.argsort(x1)\n",
    "    xs = np.array(x1)[order]\n",
    "    xm = np.array(x2)[order]\n",
    "    ys = np.array(y)[order]\n",
    "\n",
    "    fig = plt.figure()\n",
    "    ax = fig.gca(projection = '3d')\n",
    "    ax.scatter(xs,xm,ys)"
   ]
  },
  {
   "cell_type": "markdown",
   "metadata": {
    "cell_id": "00005-794fa64f-d7d9-4060-8251-f001640ee550",
    "output_cleared": false,
    "tags": []
   },
   "source": [
    "## Pre-Processing"
   ]
  },
  {
   "cell_type": "code",
   "execution_count": 8,
   "metadata": {
    "cell_id": "00006-7ade6e4a-0865-4aba-9620-67784183c7a1",
    "output_cleared": false,
    "tags": []
   },
   "outputs": [
    {
     "name": "stdout",
     "output_type": "stream",
     "text": [
      "            LotArea  SalePrice\n",
      "LotArea    1.000000   0.263843\n",
      "SalePrice  0.263843   1.000000\n"
     ]
    }
   ],
   "source": [
    "# find correclation between one feature and desired output\n",
    "corr_score = raw_train_data[['LotArea', 'SalePrice']].corr('pearson')\n",
    "print(corr_score)"
   ]
  },
  {
   "cell_type": "code",
   "execution_count": 9,
   "metadata": {
    "cell_id": "00011-18a2d550-6075-4543-9ce2-4e738e98b395",
    "output_cleared": false,
    "tags": []
   },
   "outputs": [
    {
     "data": {
      "image/png": "[encoded data removed]",
      "text/plain": [
       "<Figure size 432x288 with 1 Axes>"
      ]
     },
     "metadata": {
      "needs_background": "light"
     },
     "output_type": "display_data"
    }
   ],
   "source": [
    "scatter_unsorted(raw_train_data['LotArea'],raw_train_data['SalePrice'])"
   ]
  },
  {
   "cell_type": "code",
   "execution_count": 10,
   "metadata": {
    "cell_id": "00011-bb6712d7-6aa3-4d4b-890d-f02f6bb30b4a",
    "output_cleared": false,
    "tags": []
   },
   "outputs": [
    {
     "name": "stdout",
     "output_type": "stream",
     "text": [
      "              BedroomAbvGr  SalePrice\n",
      "BedroomAbvGr      1.000000   0.234907\n",
      "SalePrice         0.234907   1.000000\n"
     ]
    }
   ],
   "source": [
    "corr_score = raw_train_data[['BedroomAbvGr', 'SalePrice']].corr('spearman')\n",
    "print(corr_score)"
   ]
  },
  {
   "cell_type": "code",
   "execution_count": 11,
   "metadata": {
    "cell_id": "00012-684beb65-1c7a-41f8-8621-882827ef47bd",
    "output_cleared": false,
    "tags": []
   },
   "outputs": [
    {
     "data": {
      "image/png": "[encoded data removed]",
      "text/plain": [
       "<Figure size 432x288 with 1 Axes>"
      ]
     },
     "metadata": {
      "needs_background": "light"
     },
     "output_type": "display_data"
    }
   ],
   "source": [
    "scatter_unsorted(raw_train_data['BedroomAbvGr'],raw_train_data['SalePrice'])"
   ]
  },
  {
   "cell_type": "code",
   "execution_count": 12,
   "metadata": {
    "cell_id": "00007-0907df2e-4af1-4983-b707-d65f378f5591",
    "output_cleared": false,
    "tags": []
   },
   "outputs": [
    {
     "name": "stdout",
     "output_type": "stream",
     "text": [
      "             OverallQual  SalePrice\n",
      "OverallQual     1.000000   0.809829\n",
      "SalePrice       0.809829   1.000000\n"
     ]
    }
   ],
   "source": [
    "corr_score = raw_train_data[['OverallQual', 'SalePrice', ]].corr('spearman')\n",
    "print(corr_score)"
   ]
  },
  {
   "cell_type": "code",
   "execution_count": 13,
   "metadata": {
    "cell_id": "00008-e52c563e-cfa5-4876-b15f-efc8e949b223",
    "output_cleared": false,
    "tags": []
   },
   "outputs": [
    {
     "data": {
      "image/png": "[encoded data removed]",
      "text/plain": [
       "<Figure size 432x288 with 1 Axes>"
      ]
     },
     "metadata": {
      "needs_background": "light"
     },
     "output_type": "display_data"
    }
   ],
   "source": [
    "scatter_unsorted(raw_train_data['OverallQual'],raw_train_data['SalePrice'])"
   ]
  },
  {
   "cell_type": "code",
   "execution_count": 14,
   "metadata": {
    "cell_id": "00007-0392bbb9-222e-4e64-b8ff-2cbc05e44d27",
    "output_cleared": false,
    "tags": []
   },
   "outputs": [
    {
     "name": "stdout",
     "output_type": "stream",
     "text": [
      "             OverallCond  SalePrice\n",
      "OverallCond     1.000000  -0.129325\n",
      "SalePrice      -0.129325   1.000000\n"
     ]
    }
   ],
   "source": [
    "corr_score = raw_train_data[['OverallCond', 'SalePrice']].corr('spearman')\n",
    "print(corr_score)"
   ]
  },
  {
   "cell_type": "code",
   "execution_count": 15,
   "metadata": {
    "cell_id": "00009-48f5a03c-ced6-4360-9c72-5e529fcd192f",
    "output_cleared": false,
    "tags": []
   },
   "outputs": [
    {
     "data": {
      "image/png": "[encoded data removed]",
      "text/plain": [
       "<Figure size 432x288 with 1 Axes>"
      ]
     },
     "metadata": {
      "needs_background": "light"
     },
     "output_type": "display_data"
    }
   ],
   "source": [
    "scatter_unsorted(raw_train_data['OverallCond'],raw_train_data['SalePrice'])"
   ]
  },
  {
   "cell_type": "code",
   "execution_count": 16,
   "metadata": {
    "cell_id": "00008-653463b1-11d7-41f3-8371-f898254a47b2",
    "output_cleared": false,
    "tags": []
   },
   "outputs": [],
   "source": [
    "# Trim data and filter out unnecessary data\n",
    "train_data = raw_train_data.filter(['LotArea','OverallQual','OverallCond','BedroomAbvGr','SalePrice'])"
   ]
  },
  {
   "cell_type": "code",
   "execution_count": 17,
   "metadata": {
    "cell_id": "00009-1ed29d54-8ca6-407c-a458-8887c3f332cd",
    "output_cleared": false,
    "tags": []
   },
   "outputs": [],
   "source": [
    "# drop outlier\n",
    "from scipy import stats\n",
    "train_data  = train_data[(np.abs(stats.zscore(train_data)) < 3).all(axis=1)]"
   ]
  },
  {
   "cell_type": "code",
   "execution_count": 18,
   "metadata": {
    "cell_id": "00008-bbf98dc5-3d48-4440-b523-eee8cf8a5800",
    "output_cleared": false,
    "tags": []
   },
   "outputs": [
    {
     "data": {
      "text/html": [
       "<div>\n",
       "<style scoped>\n",
       "    .dataframe tbody tr th:only-of-type {\n",
       "        vertical-align: middle;\n",
       "    }\n",
       "\n",
       "    .dataframe tbody tr th {\n",
       "        vertical-align: top;\n",
       "    }\n",
       "\n",
       "    .dataframe thead th {\n",
       "        text-align: right;\n",
       "    }\n",
       "</style>\n",
       "<table border=\"1\" class=\"dataframe\">\n",
       "  <thead>\n",
       "    <tr style=\"text-align: right;\">\n",
       "      <th></th>\n",
       "      <th>LotArea</th>\n",
       "      <th>OverallQual</th>\n",
       "      <th>OverallCond</th>\n",
       "      <th>BedroomAbvGr</th>\n",
       "      <th>SalePrice</th>\n",
       "    </tr>\n",
       "  </thead>\n",
       "  <tbody>\n",
       "    <tr>\n",
       "      <th>0</th>\n",
       "      <td>8450</td>\n",
       "      <td>7</td>\n",
       "      <td>5</td>\n",
       "      <td>3</td>\n",
       "      <td>208500</td>\n",
       "    </tr>\n",
       "    <tr>\n",
       "      <th>1</th>\n",
       "      <td>9600</td>\n",
       "      <td>6</td>\n",
       "      <td>8</td>\n",
       "      <td>3</td>\n",
       "      <td>181500</td>\n",
       "    </tr>\n",
       "    <tr>\n",
       "      <th>2</th>\n",
       "      <td>11250</td>\n",
       "      <td>7</td>\n",
       "      <td>5</td>\n",
       "      <td>3</td>\n",
       "      <td>223500</td>\n",
       "    </tr>\n",
       "    <tr>\n",
       "      <th>3</th>\n",
       "      <td>9550</td>\n",
       "      <td>7</td>\n",
       "      <td>5</td>\n",
       "      <td>3</td>\n",
       "      <td>140000</td>\n",
       "    </tr>\n",
       "    <tr>\n",
       "      <th>4</th>\n",
       "      <td>14260</td>\n",
       "      <td>8</td>\n",
       "      <td>5</td>\n",
       "      <td>4</td>\n",
       "      <td>250000</td>\n",
       "    </tr>\n",
       "    <tr>\n",
       "      <th>...</th>\n",
       "      <td>...</td>\n",
       "      <td>...</td>\n",
       "      <td>...</td>\n",
       "      <td>...</td>\n",
       "      <td>...</td>\n",
       "    </tr>\n",
       "    <tr>\n",
       "      <th>1454</th>\n",
       "      <td>7500</td>\n",
       "      <td>7</td>\n",
       "      <td>5</td>\n",
       "      <td>2</td>\n",
       "      <td>185000</td>\n",
       "    </tr>\n",
       "    <tr>\n",
       "      <th>1455</th>\n",
       "      <td>7917</td>\n",
       "      <td>6</td>\n",
       "      <td>5</td>\n",
       "      <td>3</td>\n",
       "      <td>175000</td>\n",
       "    </tr>\n",
       "    <tr>\n",
       "      <th>1456</th>\n",
       "      <td>13175</td>\n",
       "      <td>6</td>\n",
       "      <td>6</td>\n",
       "      <td>3</td>\n",
       "      <td>210000</td>\n",
       "    </tr>\n",
       "    <tr>\n",
       "      <th>1458</th>\n",
       "      <td>9717</td>\n",
       "      <td>5</td>\n",
       "      <td>6</td>\n",
       "      <td>2</td>\n",
       "      <td>142125</td>\n",
       "    </tr>\n",
       "    <tr>\n",
       "      <th>1459</th>\n",
       "      <td>9937</td>\n",
       "      <td>5</td>\n",
       "      <td>6</td>\n",
       "      <td>3</td>\n",
       "      <td>147500</td>\n",
       "    </tr>\n",
       "  </tbody>\n",
       "</table>\n",
       "<p>1386 rows × 5 columns</p>\n",
       "</div>"
      ],
      "text/plain": [
       "      LotArea  OverallQual  OverallCond  BedroomAbvGr  SalePrice\n",
       "0        8450            7            5             3     208500\n",
       "1        9600            6            8             3     181500\n",
       "2       11250            7            5             3     223500\n",
       "3        9550            7            5             3     140000\n",
       "4       14260            8            5             4     250000\n",
       "...       ...          ...          ...           ...        ...\n",
       "1454     7500            7            5             2     185000\n",
       "1455     7917            6            5             3     175000\n",
       "1456    13175            6            6             3     210000\n",
       "1458     9717            5            6             2     142125\n",
       "1459     9937            5            6             3     147500\n",
       "\n",
       "[1386 rows x 5 columns]"
      ]
     },
     "execution_count": 18,
     "metadata": {},
     "output_type": "execute_result"
    }
   ],
   "source": [
    "train_data"
   ]
  },
  {
   "cell_type": "code",
   "execution_count": 19,
   "metadata": {
    "cell_id": "00009-57de16ff-c061-4210-908a-b937e8cc9a86",
    "output_cleared": false,
    "tags": []
   },
   "outputs": [
    {
     "name": "stdout",
     "output_type": "stream",
     "text": [
      "            LotArea  SalePrice\n",
      "LotArea    1.000000   0.330867\n",
      "SalePrice  0.330867   1.000000\n"
     ]
    }
   ],
   "source": [
    "corr_score = train_data[['LotArea', 'SalePrice']].corr('pearson')\n",
    "print(corr_score)"
   ]
  },
  {
   "cell_type": "code",
   "execution_count": 20,
   "metadata": {
    "cell_id": "00022-159914b5-0d09-4aaa-af58-26ad5bf5e70a",
    "output_cleared": false,
    "tags": []
   },
   "outputs": [
    {
     "name": "stdout",
     "output_type": "stream",
     "text": [
      "              BedroomAbvGr  SalePrice\n",
      "BedroomAbvGr      1.000000   0.242141\n",
      "SalePrice         0.242141   1.000000\n"
     ]
    }
   ],
   "source": [
    "corr_score = train_data[['BedroomAbvGr', 'SalePrice']].corr('spearman')\n",
    "print(corr_score)"
   ]
  },
  {
   "cell_type": "code",
   "execution_count": 21,
   "metadata": {
    "cell_id": "00023-bd1b1d28-fe88-4ce4-ba00-2ea2045b134f",
    "output_cleared": false,
    "tags": []
   },
   "outputs": [
    {
     "name": "stdout",
     "output_type": "stream",
     "text": [
      "             OverallCond  SalePrice\n",
      "OverallCond     1.000000  -0.160464\n",
      "SalePrice      -0.160464   1.000000\n"
     ]
    }
   ],
   "source": [
    "corr_score = train_data[['OverallCond', 'SalePrice']].corr('spearman')\n",
    "print(corr_score)"
   ]
  },
  {
   "cell_type": "code",
   "execution_count": 22,
   "metadata": {
    "cell_id": "00017-06769f9d-9f70-4086-8e4c-3820a4995138",
    "output_cleared": false,
    "tags": []
   },
   "outputs": [
    {
     "name": "stdout",
     "output_type": "stream",
     "text": [
      "             OverallQual  SalePrice\n",
      "OverallQual     1.000000   0.804706\n",
      "SalePrice       0.804706   1.000000\n"
     ]
    }
   ],
   "source": [
    "corr_score = train_data[['OverallQual', 'SalePrice']].corr('spearman')\n",
    "print(corr_score)"
   ]
  },
  {
   "cell_type": "markdown",
   "metadata": {
    "cell_id": "00004-700ca2a1-bac5-431e-ab9c-cc358b736456",
    "output_cleared": false,
    "tags": []
   },
   "source": [
    "## Question 2 (b)"
   ]
  },
  {
   "cell_type": "code",
   "execution_count": 23,
   "metadata": {
    "cell_id": "00008-3de56635-4092-4b54-8e1f-2b015021b89c",
    "output_cleared": false,
    "tags": []
   },
   "outputs": [],
   "source": [
    "from sklearn.preprocessing import PolynomialFeatures\n",
    "from sklearn.linear_model import LinearRegression\n",
    "from sklearn.pipeline import Pipeline"
   ]
  },
  {
   "cell_type": "code",
   "execution_count": 24,
   "metadata": {
    "cell_id": "00005-ed3877cd-b5fc-4d09-9d11-bc2746d97472",
    "output_cleared": false,
    "tags": []
   },
   "outputs": [],
   "source": [
    "X_train = train_data[['LotArea','OverallQual','OverallCond','BedroomAbvGr']]\n",
    "X_1_train = train_data['LotArea']\n",
    "X_2_train = train_data['OverallQual']\n",
    "X_3_train = train_data['OverallCond']\n",
    "X_4_train = train_data['BedroomAbvGr']\n",
    "y_train = train_data['SalePrice']"
   ]
  },
  {
   "cell_type": "markdown",
   "metadata": {
    "cell_id": "00012-18b08f1a-9add-46e4-a575-35ea9e9e3c13",
    "output_cleared": false,
    "tags": []
   },
   "source": [
    "from the previous data pre-processing steps, we found that there are four categories that we want to research on"
   ]
  },
  {
   "cell_type": "markdown",
   "metadata": {
    "cell_id": "00028-03373652-9c5e-457f-8e39-b5faa4392bc2",
    "output_cleared": false,
    "tags": []
   },
   "source": [
    "LotArea: from the correlation test, we found that it is positively correlated to SalesPrice, but not a very strong correlation. Althought from the scatter plot we find that the data seems to be clustered, with still some pontential outliers. The best way to classify this data I think is using clustering method. But from our experience, lotArea still could be associated to SalesPrice in normal understanding"
   ]
  },
  {
   "cell_type": "markdown",
   "metadata": {
    "cell_id": "00029-9dd49d60-c9ca-48b1-ba94-3739fd6b5aa7",
    "output_cleared": false,
    "tags": []
   },
   "source": [
    "Overall Quality: it is a n Ordinal data, we found a very strong correlation between overall quality and SalesPrice, so we select this feature"
   ]
  },
  {
   "cell_type": "markdown",
   "metadata": {
    "cell_id": "00031-e88691e4-9a91-4706-9085-8af930278074",
    "output_cleared": false,
    "tags": []
   },
   "source": [
    "Overall Condition: it is also an ordinal data, althought correlation test gives us negatively correlated behavior, we were supposed to put it into consideration here, for this least square question, I want to look for feature that is only postively correlated to SalePrice. I can't mix feature that are either positively or negatively correlated to label, it will mess up my regression model.\n",
    "However, we don't think correlation test gives us a good result, because fromthe scatter plot, we can see a general trend of price rising up while condition increases, the problem is that mode is condition = 5, it skewed the correlation test because of that. we were not sure those are outliers that we should remove. It is better to use other data processing techniques to replace that data such that we can get a better processed data set. However we decide to put the entire data into our model to see what happens, because in general there is an observable trend."
   ]
  },
  {
   "cell_type": "markdown",
   "metadata": {
    "cell_id": "00032-0d9c99a7-42eb-40ec-8d16-4e8134918eb9",
    "output_cleared": false,
    "tags": []
   },
   "source": [
    "BedroomAbove grade: it is also an ordinal data, our hypothesis is that the more bedroom, the more pricy it would be. We also got a positive but weak correlation."
   ]
  },
  {
   "cell_type": "markdown",
   "metadata": {
    "cell_id": "00033-8d84bed9-7ae3-4c5a-afa6-7977d47a5cbc",
    "output_cleared": false,
    "tags": []
   },
   "source": [
    "We will not be using other feature for right now, because other features includes uncertainty behavior that needs more analysis to determine if we should use as training feature. Also a lot of data has categorical features, binary like features, which is not good while we are using least square to find regression model."
   ]
  },
  {
   "cell_type": "markdown",
   "metadata": {
    "cell_id": "00034-d1df2ae3-c53a-4d6f-86a5-dfee345098f3",
    "output_cleared": false,
    "tags": []
   },
   "source": [
    "In this homework, we will be using two methods. The first one is only to use one feature but polynomial linear regression.The second method, we will be taking consideration of all four features, which we will be using multi-variate linear regression"
   ]
  },
  {
   "cell_type": "code",
   "execution_count": 25,
   "metadata": {
    "cell_id": "00022-a0a11a38-004a-47bb-93fb-9f3a5340e36f",
    "output_cleared": false,
    "tags": []
   },
   "outputs": [],
   "source": [
    "# Least square using several feature\n",
    "#fit\n",
    "one_array = np.ones(( len(train_data['LotArea']),  ))\n",
    "\n",
    "#theta using closed form\n",
    "new_X_train = np.stack([ one_array, X_1_train,X_2_train, X_3_train, X_4_train], axis=1)\n",
    "theta_best = np.linalg.inv(new_X_train.T.dot(new_X_train)).dot(new_X_train.T).dot(y_train)"
   ]
  },
  {
   "cell_type": "code",
   "execution_count": 26,
   "metadata": {
    "cell_id": "00022-d64a96ba-8d2c-4616-b539-17e02212dd3c",
    "output_cleared": false,
    "tags": []
   },
   "outputs": [
    {
     "name": "stdout",
     "output_type": "stream",
     "text": [
      "0.6996977640075646\n"
     ]
    }
   ],
   "source": [
    "#predict\n",
    "y_train_pred = new_X_train.dot(theta_best)\n",
    "print(r2_score(y_train, y_train_pred))"
   ]
  },
  {
   "cell_type": "code",
   "execution_count": 27,
   "metadata": {
    "cell_id": "00004-e70bd446-9b2f-4586-a60c-55d45fd87190",
    "output_cleared": false,
    "tags": []
   },
   "outputs": [],
   "source": [
    "# lease square suing one feature\n",
    "#fit\n",
    "one_array = np.ones(( len(train_data['LotArea']),  ))\n",
    "\n",
    "#theta using closed form\n",
    "new_X_train = np.stack([ one_array, X_1_train,X_1_train**2,X_1_train**3,X_1_train**4 ], axis=1)\n",
    "theta_best = np.linalg.inv(new_X_train.T.dot(new_X_train)).dot(new_X_train.T).dot(y_train)\n",
    "\n",
    "#new_X_train = np.hstack((one_array, X_1_train, X_train**2))"
   ]
  },
  {
   "cell_type": "code",
   "execution_count": 28,
   "metadata": {
    "cell_id": "00005-fa1e9f9e-79be-4c6e-9f5a-4bf0be20fc69",
    "output_cleared": false,
    "tags": []
   },
   "outputs": [
    {
     "name": "stdout",
     "output_type": "stream",
     "text": [
      "0.16934769528258264\n"
     ]
    },
    {
     "data": {
      "image/png": "[encoded data removed]",
      "text/plain": [
       "<Figure size 432x288 with 1 Axes>"
      ]
     },
     "metadata": {
      "needs_background": "light"
     },
     "output_type": "display_data"
    }
   ],
   "source": [
    "#predict\n",
    "y_train_pred = new_X_train.dot(theta_best)\n",
    "print(r2_score(y_train, y_train_pred))\n",
    "\n",
    "plt.xlabel('LotArea')\n",
    "plt.ylabel('SalePrice')\n",
    "plt.scatter(X_1_train, y_train)\n",
    "plot_unsorted(X_1_train, y_train_pred)"
   ]
  },
  {
   "cell_type": "code",
   "execution_count": 29,
   "metadata": {
    "cell_id": "00008-84ffa5ff-94c4-430c-ab37-279e5f43e54f",
    "output_cleared": false,
    "tags": []
   },
   "outputs": [
    {
     "data": {
      "text/plain": [
       "Text(0, 0.5, 'SalesPrice')"
      ]
     },
     "execution_count": 29,
     "metadata": {},
     "output_type": "execute_result"
    },
    {
     "data": {
      "image/png": "[encoded data removed]",
      "text/plain": [
       "<Figure size 432x288 with 1 Axes>"
      ]
     },
     "metadata": {
      "needs_background": "light"
     },
     "output_type": "display_data"
    }
   ],
   "source": [
    "#method 2 as comparison, using Library\n",
    "\n",
    "polynomial_features = PolynomialFeatures(degree= 4, include_bias=False)\n",
    "linear_regression = LinearRegression()\n",
    "pipeline = Pipeline([(\"pf\", polynomial_features), (\"lr\", linear_regression)])\n",
    "pipeline.fit(X_1_train[:, np.newaxis], y_train)\n",
    "\n",
    "plt.scatter(X_1_train, y_train)\n",
    "plot_unsorted(X_1_train, pipeline.predict(X_1_train[:, np.newaxis]))\n",
    "plt.xlabel('lotArea')\n",
    "plt.ylabel('SalesPrice')"
   ]
  },
  {
   "cell_type": "markdown",
   "metadata": {
    "cell_id": "00016-56f22822-c57b-4dc3-ba19-6a2f88cdf25d",
    "output_cleared": false,
    "tags": []
   },
   "source": [
    "## Question 2(c)"
   ]
  },
  {
   "cell_type": "code",
   "execution_count": 30,
   "metadata": {
    "cell_id": "00037-3b0e89af-4f07-4aee-82fe-30e2c68cbc28",
    "output_cleared": false,
    "tags": []
   },
   "outputs": [
    {
     "name": "stdout",
     "output_type": "stream",
     "text": [
      "[0.6996977628769925, 0.6996977603447885, 0.6996977594857045, 0.6996977357539602, 0.6996976725005221, 0.6996975731576829, 0.6996975099655374, 0.6996973982907964, 0.6996973125907398]\n"
     ]
    }
   ],
   "source": [
    "#Multiple feature find best alpha\n",
    "#ridge\n",
    "alpha_list = [0.1, 0.18, 0.20, 0.5, 0.9, 1.3, 1.5, 1.8, 2.0]\n",
    "regression_loss_list =[]\n",
    "for i in alpha_list:\n",
    "    RidgeModel = Ridge(alpha = i) \n",
    "    RidgeModel.fit(X_train, y_train) \n",
    "    Ridge_prediction = RidgeModel.predict(X_train)\n",
    "    regression_loss = r2_score(y_train, Ridge_prediction)\n",
    "    regression_loss_list.append(regression_loss)\n",
    "print(regression_loss_list)"
   ]
  },
  {
   "cell_type": "code",
   "execution_count": 31,
   "metadata": {
    "cell_id": "00017-0f2a76d3-d967-4122-89de-cd8eb868a681",
    "output_cleared": false,
    "tags": []
   },
   "outputs": [
    {
     "name": "stdout",
     "output_type": "stream",
     "text": [
      "score is 0.16934769528258242\n"
     ]
    },
    {
     "name": "stderr",
     "output_type": "stream",
     "text": [
      "D:\\CODING------PROGRAMMING\\Anaconda\\lib\\site-packages\\sklearn\\linear_model\\_ridge.py:147: LinAlgWarning: Ill-conditioned matrix (rcond=6.26046e-30): result may not be accurate.\n",
      "  return linalg.solve(A, Xy, sym_pos=True,\n"
     ]
    },
    {
     "data": {
      "text/plain": [
       "Text(0, 0.5, 'SalesPrice')"
      ]
     },
     "execution_count": 31,
     "metadata": {},
     "output_type": "execute_result"
    },
    {
     "data": {
      "image/png": "[encoded data removed]",
      "text/plain": [
       "<Figure size 432x288 with 1 Axes>"
      ]
     },
     "metadata": {
      "needs_background": "light"
     },
     "output_type": "display_data"
    }
   ],
   "source": [
    "# Single Feature, Polynomial 4\n",
    "# Ridge--------L2 regularization\n",
    "polynomial_features = PolynomialFeatures(degree= 4, include_bias=False)\n",
    "linear_regression = Ridge(alpha=0.9)\n",
    "pipeline_r = Pipeline([(\"pf\", polynomial_features), (\"lr\", linear_regression)])\n",
    "pipeline_r.fit(X_1_train[:, np.newaxis], y_train)\n",
    "\n",
    "print('score is '+ str(r2_score(y_train, pipeline_r.predict(X_1_train[:, np.newaxis]))))\n",
    "plt.scatter(X_1_train, y_train)\n",
    "plot_unsorted(X_1_train, pipeline_r.predict(X_1_train[:, np.newaxis]))\n",
    "plt.xlabel('lotArea')\n",
    "plt.ylabel('SalesPrice')"
   ]
  },
  {
   "cell_type": "code",
   "execution_count": 48,
   "metadata": {
    "cell_id": "00038-aaebd0ad-c0fc-4ec3-9847-72f8d4239dda",
    "output_cleared": false,
    "tags": []
   },
   "outputs": [
    {
     "name": "stdout",
     "output_type": "stream",
     "text": [
      "[0.6996977639991868, 0.6996977639804205, 0.6996977639740535, 0.6996977637981203, 0.6996977633289653]\n"
     ]
    }
   ],
   "source": [
    "#Multiple feature find best alpha\n",
    "#lasso\n",
    "alpha_list = [0.1, 0.18, 0.20, 0.5, 0.9]\n",
    "regression_loss_list =[]\n",
    "for i in alpha_list:\n",
    "    lassoModel = Lasso(alpha = i) \n",
    "    lassoModel.fit(X_train, y_train) \n",
    "    lasso_prediction = lassoModel.predict(X_train)\n",
    "    regression_loss = r2_score(y_train, lasso_prediction)\n",
    "    regression_loss_list.append(regression_loss)\n",
    "print(regression_loss_list)"
   ]
  },
  {
   "cell_type": "code",
   "execution_count": 33,
   "metadata": {
    "cell_id": "00017-2db1b8c4-abd0-4169-a3ff-5cbb075b5ef5",
    "output_cleared": false,
    "tags": []
   },
   "outputs": [
    {
     "name": "stdout",
     "output_type": "stream",
     "text": [
      "score is 0.15793100039006402\n"
     ]
    },
    {
     "name": "stderr",
     "output_type": "stream",
     "text": [
      "D:\\CODING------PROGRAMMING\\Anaconda\\lib\\site-packages\\sklearn\\linear_model\\_coordinate_descent.py:529: ConvergenceWarning: Objective did not converge. You might want to increase the number of iterations. Duality gap: 2549925317233.919, tolerance: 605633342.0608436\n",
      "  model = cd_fast.enet_coordinate_descent(\n"
     ]
    },
    {
     "data": {
      "text/plain": [
       "Text(0, 0.5, 'SalesPrice')"
      ]
     },
     "execution_count": 33,
     "metadata": {},
     "output_type": "execute_result"
    },
    {
     "data": {
      "image/png": "[encoded data removed]",
      "text/plain": [
       "<Figure size 432x288 with 1 Axes>"
      ]
     },
     "metadata": {
      "needs_background": "light"
     },
     "output_type": "display_data"
    }
   ],
   "source": [
    "# Single Feature, Polynomial 4\n",
    "# Lasso-------------L1 regularization\n",
    "polynomial_features = PolynomialFeatures(degree= 4, include_bias=False)\n",
    "linear_regression = Lasso(alpha=0.9)\n",
    "pipeline_l = Pipeline([(\"pf\", polynomial_features), (\"lr\", linear_regression)])\n",
    "pipeline_l.fit(X_1_train[:, np.newaxis], y_train)\n",
    "\n",
    "print('score is '+ str(r2_score(y_train, pipeline_l.predict(X_1_train[:, np.newaxis]))))\n",
    "plt.scatter(X_1_train, y_train)\n",
    "plot_unsorted(X_1_train, pipeline_l.predict(X_1_train[:, np.newaxis]))\n",
    "plt.xlabel('lotArea')\n",
    "plt.ylabel('SalesPrice')"
   ]
  },
  {
   "cell_type": "markdown",
   "metadata": {
    "cell_id": "00045-439196c9-90cf-48ed-9c46-1ae158473386",
    "output_cleared": false,
    "tags": []
   },
   "source": [
    "from r2_score we know that polynomial linear regression models don't fit the data good, the loss is enormous. "
   ]
  },
  {
   "cell_type": "markdown",
   "metadata": {
    "cell_id": "00046-1077ef00-fc9b-4de8-990f-986d931e37aa",
    "output_cleared": false,
    "tags": []
   },
   "source": [
    "multivariate models perform much better with r_2 score of approximately 0.7, both lasso and ridge model perform similarly, and similarly as ordinary linear regression. So using ridge and lasso didn't really change much compared to unregularized models. "
   ]
  },
  {
   "cell_type": "markdown",
   "metadata": {
    "cell_id": "00047-9f953fbd-da60-43bf-8806-aae3a79214b2",
    "output_cleared": false,
    "tags": []
   },
   "source": [
    "as we increase lambda for ridge and lasso models, r_2 score decrease a tiny little bit, but still decreasing. So lambda didn't play a big role in our selected features for our model. "
   ]
  },
  {
   "cell_type": "markdown",
   "metadata": {
    "cell_id": "00018-bf715a26-99d0-4051-99fe-03f20506be5a",
    "output_cleared": false,
    "tags": []
   },
   "source": [
    "## Question 2 (d)"
   ]
  },
  {
   "cell_type": "code",
   "execution_count": 35,
   "metadata": {
    "cell_id": "00019-d9d46ea9-5381-4fb4-9c14-5c656ece5ec6",
    "output_cleared": false,
    "tags": []
   },
   "outputs": [],
   "source": [
    "x_test = np.array(raw_test_data[['LotArea','OverallQual','OverallCond','BedroomAbvGr']])"
   ]
  },
  {
   "cell_type": "code",
   "execution_count": 45,
   "metadata": {
    "cell_id": "00019-bad25791-8df4-48b9-85a9-325dd4123498",
    "output_cleared": false,
    "tags": []
   },
   "outputs": [],
   "source": [
    "result_prediction = lassoModel.predict(x_test)"
   ]
  },
  {
   "cell_type": "code",
   "execution_count": 37,
   "metadata": {},
   "outputs": [],
   "source": [
    "result_df = pd.DataFrame(data = result_prediction, columns = ['SalePrice'])"
   ]
  },
  {
   "cell_type": "code",
   "execution_count": 42,
   "metadata": {},
   "outputs": [],
   "source": [
    "csvfile = result_df.to_csv('result_HP.csv',index_label = 'Id')"
   ]
  },
  {
   "cell_type": "code",
   "execution_count": 49,
   "metadata": {},
   "outputs": [
    {
     "data": {
      "text/plain": [
       "array([135890.96669744, 188378.54794807, 147662.63981791, ...,\n",
       "       173393.00516124, 136811.403712  , 211989.90231484])"
      ]
     },
     "execution_count": 49,
     "metadata": {},
     "output_type": "execute_result"
    }
   ],
   "source": [
    "result_prediction"
   ]
  }
 ],
 "metadata": {
  "deepnote_execution_queue": [],
  "deepnote_notebook_id": "e86cc217-86ea-4f7c-8f5e-c3658b3a0a43",
  "kernelspec": {
   "display_name": "Python 3",
   "language": "python",
   "name": "python3"
  },
  "language_info": {
   "codemirror_mode": {
    "name": "ipython",
    "version": 3
   },
   "file_extension": ".py",
   "mimetype": "text/x-python",
   "name": "python",
   "nbconvert_exporter": "python",
   "pygments_lexer": "ipython3",
   "version": "3.8.3"
  }
 },
 "nbformat": 4,
 "nbformat_minor": 2
}
